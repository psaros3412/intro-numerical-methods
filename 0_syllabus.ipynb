{
 "cells": [
  {
   "cell_type": "markdown",
   "metadata": {
    "slideshow": {
     "slide_type": "slide"
    }
   },
   "source": [
    "# Introduction to Numerical Methods - APMA 4300 - Syllabus and Course Information\n",
    "\n",
    "## Purpose\n",
    "Welcome to your first course in numerical methods (maybe).  Numerical methods and computational science and engineering have often been said to comprise the \"third\" pillar of science if that gives you a scope for its applicability, so that's exciting.  We will cover a wide variety of topics to give you at least a taste as to the wide variety of uses these methods can have, exploring a large variety of these applications while studying each of the different topics.    "
   ]
  },
  {
   "cell_type": "markdown",
   "metadata": {
    "slideshow": {
     "slide_type": "slide"
    }
   },
   "source": [
    "## Goals and Scope\n",
    "Our goal in this course is that you will be able to\n",
    "\n",
    "1. **Understand** the numerical algorithms and related mathematical concepts presented including ideas like complexity, stability, and convergence for each,\n",
    "1. **Select** an appropriate method for a given problem,\n",
    "1. **Implement** the selected numerical algorithm, and\n",
    "1. **Test** and debug the numerical implementation."
   ]
  },
  {
   "cell_type": "markdown",
   "metadata": {
    "slideshow": {
     "slide_type": "slide"
    }
   },
   "source": [
    "In order to accomplish this we will use a variety of learning approaches that may be different from what you are used to:\n",
    "\n",
    " - This course will be partially \"flipped\", i.e. you will be expected to watch course lectures outside of class time and class time instead will be devoted to working on guided group work and programming as this is the \"real\" way to learn the material.  This is a bit of an experiment but wider experience has suggested this is the most effective way to learn this material."
   ]
  },
  {
   "cell_type": "markdown",
   "metadata": {
    "slideshow": {
     "slide_type": "slide"
    }
   },
   "source": [
    " - Peer-review of homework will be part of your grade.  This will be randomly assigned and will based on simple completion of the review which will be handed back to the writer of the code.  This will hopefully enable you to get a broader idea of how others approached the problem, improve your ability to read others code (a key component to any job where you might be working on numerical related problems), and hopefully improve your success at writing readable, maintainable, and clear code."
   ]
  },
  {
   "cell_type": "markdown",
   "metadata": {
    "slideshow": {
     "slide_type": "slide"
    }
   },
   "source": [
    " - This course will be taught via IPython/Jupyter notebooks.  This will include the course notes (in lieu of a text-book), homework assignments, and various other notes."
   ]
  },
  {
   "cell_type": "markdown",
   "metadata": {
    "slideshow": {
     "slide_type": "slide"
    }
   },
   "source": [
    "## Pre-requisites\n",
    "The following subjects will be used extensively so it is best that you have had at least one course in each of the following:\n",
    " - classes in calculus and vector calculus in particular,\n",
    " - a class on linear algebra,\n",
    " - a class on solving ordinary differential equations, and\n",
    " - programming experience at the level of COMS 100x (introduction to computer science and programming)"
   ]
  },
  {
   "cell_type": "markdown",
   "metadata": {
    "slideshow": {
     "slide_type": "slide"
    }
   },
   "source": [
    "## Textbook(s)\n",
    " - Required:  None!\n",
    " - Possible useful references - Note that these are in no way required!\n",
    "   - [Numerical Analysis](https://clio.columbia.edu/catalog/10809564), 2nd  edition, W. Gautschi\n",
    "   - [Numerical recipes](http://www.nr.com)\n",
    "   - [A Primer on Scientifc Programming with Python](https://clio.columbia.edu/catalog/10964799) by H. P. Langtangen.\n",
    "   - [Python scripting for computational science](https://clio.columbia.edu/catalog/7872356) by H. P. Langtangen.\n",
    "   - [Numerical Linear Algebra](https://clio.columbia.edu/catalog/6322885) by L.N. Trefethen and D. Bau, and\n",
    "   - Numerical Methods: Design, analysis and computer implementation of algorithms,  A. Greenbaum and T. P. Chartier.  This text is on reserve at the library.\n",
    "   "
   ]
  },
  {
   "cell_type": "markdown",
   "metadata": {
    "slideshow": {
     "slide_type": "slide"
    }
   },
   "source": [
    "### General Topic Coverage\n",
    "\n",
    "1. Introduction and Motivation:  Modeling and methods for scientific computing\n",
    "1. Overview of basic toolkit for computational science in Python\n",
    "  - NumPy and SciPy\n",
    "  - How to write the code\n",
    "    - IPython/Jupyter notebooks\n",
    "    - Spyder, canopy, wakari, sage-math-cloud\n",
    "    - Text editors\n",
    "  - Basic tools and best practices, version control (`git`) and code hosting (bitbucket/github)\n",
    "  - Best practices for writing code and how to peer review code\n",
    "1. Sources of error\n",
    "  - Floating point vs. truncation error\n",
    "  - Definition of errors - absolute, relative and precision\n",
    "  - Other sources of error - model error and uncertainty\n",
    "1. Root finding and optimization\n",
    "  - Fixed point iteration\n",
    "  - Basic algorithms: bracketing and bisection, Newton, secant, inverse interpolation\n",
    "  - Combined methods: Brent's method\n",
    "  - Optimization of 1-D functions: Basic algorithms, golden section search, Newton's method, parabolic interpolation\n",
    "1. Interpolation and approximation\n",
    "  - Polynomial interpolation, Lagrange and monomial basis\n",
    "  - Pitfalls of large order - Chebyshev polynomials\n",
    "  - Piecewise polynomial interpolation - $C^0$, $C^1$, $C^2$\n",
    "  - SciPy interpolation routines\n",
    "  - Data approximation by linear least squares\n",
    "1. Numerical differentiation and integration (quadrature)\n",
    "  - Numerical differentiation\n",
    "    - Basic finite difference methods\n",
    "    - Method of undetermined coefficients\n",
    "    - Higher order spectral (Chepyshev) methods\n",
    "  - Numerical quadrature\n",
    "    - Newton-Cotes and error estimates:  Mid-point, trapezoidal, and Simpson's\n",
    "    - Arbitrary order and method of undetermined coefficients\n",
    "    - Gauss quadrature\n",
    "    - Extended Newton-Cotes\n",
    "    - Adaptive quadrature\n",
    "1. Numerical solution of ODE's - Initial value problems (IVP)\n",
    "  - Motivation\n",
    "  - Application of quadrature: Single step schemes - Euler, midpoint, Runge-Kutta 4 and errors\n",
    "  - Error control and adaptive stepping\n",
    "  - Systems of ODE's\n",
    "  - Stiff systems:  example and symptoms\n",
    "  - Implicit methods: backwards Euler, backwards difference schemese (BDF) schemes\n",
    "1. Solving non-linear systems of equations\n",
    "  - N-Dimensional Taylor's theorem and Newton's method\n",
    "  - Packages and libraries (`fsolve`, `PETSc`)\n",
    "1. Numerical linear algebra part 1: Direct methods, LU, QR, and least-squares\n",
    "  - Motivation: $A x = b$ is everywhere\n",
    "  - Existance, uniqueness and condition number: vector and matrix norms\n",
    "  - Direct methods:  Gaussian elimination and the LU decomposition with partial pivoting\n",
    "  - Special matrices:  symmetric, tridiagonal, sparse matrices\n",
    "  - Lease-squares and QR\n",
    "  - Orthogonalization: Graham-Schmidt, Householder, Givens transformations\n",
    "1. Numerical linear algebra part 2 - Methods for Eigenproblems\n",
    "  - Motivation, $A x = \\lambda x$\n",
    "  - Basic algorithms - power method, inverse power method, shifts\n",
    "  - Advanced algorithms - an introduction (a.k.a. what is often used)\n",
    "1. Solution of ODEs part 2 - two-point boundary value problems (BVP) and a small taste of PDEs\n",
    "  - Motivation - numerical PDEs and discrete vs. continuous approximations\n",
    "  - Two-point BVPs - Shooting and finite difference methods"
   ]
  },
  {
   "cell_type": "markdown",
   "metadata": {
    "raw_mimetype": "text/html",
    "slideshow": {
     "slide_type": "slide"
    }
   },
   "source": [
    "### Schedule\n",
    "<table border=\"3\" cellpadding=\"0\" cellspacing=\"1\" width=\"100%\">\n",
    "    <tr>\n",
    "        <th align=\"center\">Lecture</th> <th align='center'>Month</th> <th align='center'>Day</th> <th align='center'>Topic</th> \n",
    "    </tr>\n",
    "    <tr> \n",
    "        <td> 1 </td> <td rowspan=\"7\"> September </td> <td>  8 </td> <td> Introduction </td>\n",
    "    </tr>\n",
    "    <tr> \n",
    "        <td> 2  </td>  <td> 10 </td> <td rowspan=\"2\"> Error Analysis </td>\n",
    "    </tr>\n",
    "    <tr> \n",
    "        <td> 3  </td>  <td> 15 </td>\n",
    "    </tr>\n",
    "    <tr>\n",
    "        <td> 4 </td> <td> 17 </td> <td rowspan=\"3\"> Root Finding and Optimization </td>\n",
    "    </tr>\n",
    "    <tr>\n",
    "        <td> 5 </td> <td> 22 </td>\n",
    "    </tr>\n",
    "    <tr>\n",
    "        <td> 6 </td> <td> 24 </td>\n",
    "    </tr>\n",
    "    <tr>\n",
    "        <td> 7 </td> <td> 29 </td> <td rowspan=\"2\"> Interpolation and Approximation </td>\n",
    "    </tr>\n",
    "    <tr>\n",
    "        <td> 8 </td> <td rowspan=\"11\"> October </td> <td> 1 </td>\n",
    "    </tr>\n",
    "    <tr>\n",
    "        <td> 9 </td> <td> 6 </td> <td rowspan=\"4\"> Numerical Quadrature and Differentiation </td>\n",
    "    </tr>\n",
    "    <tr>\n",
    "        <td> 10 </td> <td> 8 </td>\n",
    "    </tr>\n",
    "    <tr>\n",
    "        <td> 11 </td> <td> 13 </td>\n",
    "    </tr>\n",
    "    <tr>\n",
    "        <td> 12 </td> <td> 15 </td> \n",
    "    </tr>\n",
    "    <tr>\n",
    "        <td> 13 </td> <td> 20 </td> <td> Non-linear Systems </td>\n",
    "    </tr>\n",
    "    <tr>\n",
    "        <td> 14 </td> <td> 22 </td> <td> <b> Midterm Review</b> </td>\n",
    "    </tr>\n",
    "    <tr>\n",
    "        <td> </td> <td> 23 </td> <td rowspan=\"2\"> <b> Midterm Available</b> </td>\n",
    "    </tr>\n",
    "    <tr>\n",
    "        <td> </td> <td> 26 </td>\n",
    "    </tr>\n",
    "    <tr>\n",
    "        <td> 15 </td> <td> 27 </td> <td rowspan=\"2\"> ODEs Part 1 - IVPs </td> \n",
    "    </tr>\n",
    "    <tr>\n",
    "        <td> 16 </td> <td> 29 </td> \n",
    "    </tr>\n",
    "    <tr>\n",
    "        <td> 17 </td> <td rowspan=\"6\"> November </td> <td> 5 </td>  <td rowspan=\"5\"> Linear Algebra </td>\n",
    "    </tr>\n",
    "    <tr>\n",
    "        <td> 18 </td> <td> 10 </td>\n",
    "    </tr>\n",
    "    <tr>\n",
    "        <td> 19 </td> <td> 12 </td>\n",
    "    </tr>\n",
    "    <tr>\n",
    "        <td> 20 </td> <td> 17 </td>\n",
    "    </tr>\n",
    "    <tr>\n",
    "        <td> 21 </td> <td> 19 </td>\n",
    "    </tr>\n",
    "    <tr>\n",
    "        <td> 22 </td> <td> 24 </td> <td rowspan=\"5\"> ODEs Part 2 - BVPs and PDEs </td>\n",
    "    </tr>\n",
    "    <tr>\n",
    "        <td> 23 </td> <td rowspan=\"4\"> December </td> <td> 1 </td>\n",
    "    </tr>\n",
    "    <tr>\n",
    "        <td> 24 </td> <td> 3 </td>\n",
    "    </tr>\n",
    "    <tr>\n",
    "        <td> 25 </td> <td> 8 </td>\n",
    "    </tr>\n",
    "    <tr>\n",
    "        <td> 26 </td> <td> 10 </td>\n",
    "    </tr>\n",
    "</table>"
   ]
  },
  {
   "cell_type": "markdown",
   "metadata": {
    "slideshow": {
     "slide_type": "slide"
    }
   },
   "source": [
    "### Course Grading\n",
    " - Homework (60%)\n",
    "   - Written exercises graded by T.A.s\n",
    "   - Coding exercises graded for correctness and peer reviewed - Note that every coding assigment will be run through an anti-plaigerism database\n",
    "   - Late homework will be accepted with a 10% penalty every day it is late up to 3 days.\n",
    "   - Peer-review\n",
    "     - Participation based (just do it)\n",
    "     - Only applied to the homeworks and will be anonymous and randomly selected\n",
    " - Exams (40%), midterm (take-home) and final equally weighted\n",
    "   - Half final exam will be an in-class written exam evaluating theory based knowledge\n",
    "   - Other half will be a take-home coding based exam\n"
   ]
  },
  {
   "cell_type": "markdown",
   "metadata": {
    "slideshow": {
     "slide_type": "slide"
    }
   },
   "source": [
    "### Contact Info\n",
    "\n",
    "| Person            | Photo                                              | Email                   | Phone          |Office Hours |\n",
    "|-------------------|-------------------------------------------------|-------------------------|----------------|-------------|\n",
    "| Prof. Kyle Mandli | ![Kyle Mandli](./images/mandli_small.png)                                          |kyle.mandli@columbia.edu | (212) 854-4485 |     2:30 PM - 4:30 PM Th ETC 288     |\n",
    "| Datong Zhang (TA)      | ![Datong Zhang](./images/DZhang.jpg)            | dz2218@columbia.edu     |                | W 10-11:30 287 ETC         |\n",
    "| Melanie Bieli (TA)     | ![Malenie Bieli](./images/BIELI_Melanie_AM.jpg) | mb4036@columbia.edu     |                | Tu 9-10 287 ETC         |\n",
    "| Houwang Li (Grader)       |                                                 | hl2842@columbia.edu     |                |                         | "
   ]
  },
  {
   "cell_type": "code",
   "execution_count": null,
   "metadata": {
    "collapsed": true
   },
   "outputs": [],
   "source": []
  }
 ],
 "metadata": {
  "kernelspec": {
   "display_name": "Python 2",
   "language": "python",
   "name": "python2"
  },
  "language_info": {
   "codemirror_mode": {
    "name": "ipython",
    "version": 2
   },
   "file_extension": ".py",
   "mimetype": "text/x-python",
   "name": "python",
   "nbconvert_exporter": "python",
   "pygments_lexer": "ipython2",
   "version": "2.7.3"
  }
 },
 "nbformat": 4,
 "nbformat_minor": 0
}
